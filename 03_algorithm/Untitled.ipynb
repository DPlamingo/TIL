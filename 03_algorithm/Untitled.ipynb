{
 "cells": [
  {
   "cell_type": "code",
   "execution_count": null,
   "id": "0001f34c-9e56-4956-9376-fe4631b11643",
   "metadata": {},
   "outputs": [],
   "source": [
    "# 알고리즘\n",
    "## 목표\n",
    "    - 알고리즘을 '이해'하고 '활용'하는 것.\n",
    "    1. 정확성 : 얼마나 정확하게 동작하는가\n",
    "    2. 작업량 : 얼마나 적은 연산으로 원하는 결과를 얻는가\n",
    "    3. 메모리 사용량 : 얼마나 적은 메모리를 사용하는가\n",
    "    4. 단순성 : 얼마나 단순한가\n",
    "    5. 최적성 : 더 이상 개선할 여지없이 최적화 되는가\n",
    "\n",
    "### 시간의 복잡성\n",
    "    1. Big O 시간의 복잡성\n",
    "\n",
    "## 배열\n",
    "    1. 배열의 필요성\n",
    "        1) 여러 변수가 필요할 때, 일일이 다른 변수명을 이용해 자료에 접근하는 것은 매우 비효율적일 수 있다.\n",
    "        2) 배열을 사용하면, 하나의 선언을 통해 둘 이상의 변수를 선언할 수 있다.\n",
    "\n",
    "### 1차원 배열\n",
    "    1. 1차원 배열의 선언\n",
    "    "
   ]
  }
 ],
 "metadata": {
  "kernelspec": {
   "display_name": "Python 3 (ipykernel)",
   "language": "python",
   "name": "python3"
  },
  "language_info": {
   "codemirror_mode": {
    "name": "ipython",
    "version": 3
   },
   "file_extension": ".py",
   "mimetype": "text/x-python",
   "name": "python",
   "nbconvert_exporter": "python",
   "pygments_lexer": "ipython3",
   "version": "3.9.13"
  }
 },
 "nbformat": 4,
 "nbformat_minor": 5
}
