{
 "cells": [
  {
   "cell_type": "markdown",
   "id": "199b83e4-a9e5-4302-9bcd-1eefbcfa0bcc",
   "metadata": {},
   "source": [
    "# 스택\n",
    "## 스택의 특성\n",
    "1. 선형 구조\n",
    "    - 자료 간의 관계가 1대1의 관계를 갖는다.\n",
    "      \n",
    "2. 후입선출\n",
    "   - 마지막 삽입한 자료를 가장 먼저 꺼냄.\n",
    "     \n",
    "3. 자료구조\n",
    "   - 선형으로 저장할 저장소.\n",
    "   - 마지막 삽입된 원소의 위치를 top 이라 부른다. (stack pointer)\n",
    "     \n",
    "  \n",
    "## 스택의 구현\n",
    "1. 연산\n",
    "   - 삽입 : 저장소에 자료 저장(push)\n",
    "   - 삭제 : 저장소에서 자료를 꺼낸다. 삽입한 자료의 역순(pop)\n",
    "   - 스택이 공백인지 아닌지 확인(isEmpty)\n",
    "   - 스택의 top에 있는 item을 반환(peek)\n",
    "      \n",
    "     "
   ]
  },
  {
   "cell_type": "code",
   "execution_count": 2,
   "id": "c121ab57-2d95-4c64-8027-97c11392de95",
   "metadata": {},
   "outputs": [
    {
     "name": "stdout",
     "output_type": "stream",
     "text": [
      "0\n",
      "2\n"
     ]
    }
   ],
   "source": [
    "stack = [0] * 10\n",
    "top = -1\n",
    "\n",
    "top += 1 # push(1)\n",
    "stack[top] = 1 \n",
    "top += 1 # push(2)\n",
    "stack[top] = 2\n",
    "top += 1 # push(3)\n",
    "stack[top]\n",
    "print(stack[top]) # pop()\n",
    "top -= 1\n",
    "top -= 1 # pop()\n",
    "print(stack[top+1])\n"
   ]
  },
  {
   "cell_type": "code",
   "execution_count": 21,
   "id": "b3542c75-a931-43ae-9244-04ae59694aef",
   "metadata": {},
   "outputs": [
    {
     "name": "stdout",
     "output_type": "stream",
     "text": [
      "[None, None, None]\n",
      "-1\n",
      "True\n",
      "False\n",
      "=====\"A\"삽입=====\n",
      "[('A', 'c', 'd'), None, None]\n",
      "0\n",
      "=====\"A\"제거=====\n",
      "('A', 'c', 'd')\n",
      "[None, None, None]\n",
      "-1\n"
     ]
    }
   ],
   "source": [
    "# stack class 직접 구현\n",
    "class stack:\n",
    "    # stack 자료구조를 생성하는 순간, 기입해야 하는 정보들\n",
    "    # 지금 생성한 stack의 크기\n",
    "    def __init__(self, size):\n",
    "        self.size = size\n",
    "        self.items = [None] * size\n",
    "        # 최초 생성시의 top\n",
    "        self.top = -1 # -1은 맨뒤 아님(파이썬의 negative indexing일 뿐)\n",
    "    # 1. stack이 비었는지\n",
    "    def is_empty(self):\n",
    "        '''\n",
    "        stack이 비었을 때, pop 메서드가 실행되면, 현재 stack이 비어있음을 알려 줄 수 있어야한다.\n",
    "        '''\n",
    "        if self.top == -1:\n",
    "            return True\n",
    "        else:\n",
    "            return False\n",
    "\n",
    "    # 2. stack이 가득 찼는지\n",
    "    def is_full(self):\n",
    "        '''\n",
    "        stack이 가득 찼을 때, push 메서드가 실행되면, 현재 stack이 가득찼음을 알려 줄 수 있어야한다.\n",
    "        '''\n",
    "        \n",
    "        if self.top +1 == self.size:\n",
    "            return True\n",
    "        else:\n",
    "            return False\n",
    "    \n",
    "\n",
    "    # 3. 값 삽입\n",
    "    def push(self, *item):\n",
    "        # stack이 가득 찼을때는 들어갈 수 없어야한다.\n",
    "        if self.is_full():\n",
    "            raise Exception('stack이 가득 찼어요.')\n",
    "        else:\n",
    "            self.top += 1\n",
    "            self.items[self.top] = item\n",
    "\n",
    "    # 4. 값 제거\n",
    "    def pop(self):\n",
    "        if self.is_empty():\n",
    "            raise Exception('stack이 값이 없어요!')\n",
    "        else:\n",
    "            value = self.items[self.top]\n",
    "            self.items[self.top] = None\n",
    "            self.top -= 1\n",
    "            return value\n",
    "\n",
    "    # 5. top 위치의 값 출력\n",
    "    def peek(self):\n",
    "        # stack이 비어있지 않다면,\n",
    "        if self.is_empty():\n",
    "            raise Exception('stack이 값이 없어요!')\n",
    "        # top 번째 위치에 삽입되어 있는 값을 반환\n",
    "        else:\n",
    "            return self.items[self.top]\n",
    "\n",
    "\n",
    "s1 = stack(3)\n",
    "print(s1.items)\n",
    "print(s1.top)\n",
    "print(s1.is_empty())\n",
    "print(s1.is_full())\n",
    "# print(s1.peek())\n",
    "print('=====\"A\"삽입=====')\n",
    "s1.push('A', 'c', 'd')\n",
    "print(s1.items)\n",
    "print(s1.top)\n",
    "# print(s1.peek())\n",
    "print('=====\"A\"제거=====')\n",
    "print(s1.pop())\n",
    "print(s1.items)\n",
    "print(s1.top)\n",
    "\n"
   ]
  },
  {
   "cell_type": "code",
   "execution_count": null,
   "id": "9af79b87-b0c7-4b92-a7db-b8b68dc87af4",
   "metadata": {},
   "outputs": [],
   "source": []
  }
 ],
 "metadata": {
  "kernelspec": {
   "display_name": "Python 3 (ipykernel)",
   "language": "python",
   "name": "python3"
  },
  "language_info": {
   "codemirror_mode": {
    "name": "ipython",
    "version": 3
   },
   "file_extension": ".py",
   "mimetype": "text/x-python",
   "name": "python",
   "nbconvert_exporter": "python",
   "pygments_lexer": "ipython3",
   "version": "3.9.13"
  }
 },
 "nbformat": 4,
 "nbformat_minor": 5
}
