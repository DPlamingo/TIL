{
 "cells": [
  {
   "cell_type": "markdown",
   "id": "4268548b-b710-49b5-856a-65e6a313c261",
   "metadata": {},
   "source": [
    "# 검색\n",
    "## 정렬되지 않는 검색\n",
    "    - 모든 값을 비교하여 찾아야됨\n",
    "\n",
    "## 정렬하는 검색\n",
    "    - 정렬이 되었다면, 내가 찾던 값보다 큰값이 나타났을때까지 조사하면 됨.\n",
    "    \n",
    "### 이진 검색\n",
    "    - 자료 가운데 항목 기준을 잡고, 좌나 우 중 목적 범위를 줄인다음 찾는다.\n",
    "    - 길이가 N 일때, 2를 나눈 몫이 중앙 index (N//2)\n",
    "###"
   ]
  },
  {
   "cell_type": "code",
   "execution_count": 6,
   "id": "d96fb1ae-9b39-42e7-9b93-2cdbdd1fbf20",
   "metadata": {},
   "outputs": [
    {
     "name": "stdout",
     "output_type": "stream",
     "text": [
      "[1, 3, 5, 7, 9, 11, 13, 15, 17, 19, 21, 23, 25, 27, 29]\n",
      "True\n"
     ]
    }
   ],
   "source": [
    "# binary_search(이진 탐색)\n",
    "\n",
    "# arr : 원본 배열\n",
    "# N : 배열의 길이\n",
    "# key : 타겟\n",
    "\n",
    "def binary_search(arr, N, key):\n",
    "    start = 0\n",
    "    end = N-1 # 끝 인덱스\n",
    "    while start <= end: # 시작지점이 끝지점보다 작거나 같은 동안\n",
    "        mid = (start + end) // 2 # 중앙 인덱스\n",
    "        # 중앙 위치가 내가 찾는 대상이라면\n",
    "        if arr[mid] == key : # 찾았네?\n",
    "            return True \n",
    "        elif arr[mid] > key : # 아닌데, 중앙 위치값이 내 키 값보다 크면?\n",
    "            end = mid - 1\n",
    "        else : # 아닌데, 중앙 위치 값이 내 키 값보다 작으면?\n",
    "            start = mid + 1\n",
    "    return False\n",
    "    \n",
    "    # mid = N // 2 # 중앙 인덱스\n",
    "    \n",
    "numbers = list(range(1, 30, 2))\n",
    "print(numbers)\n",
    "N = len(numbers)\n",
    "target = 25\n",
    "\n",
    "print(binary_search(numbers, N, target))"
   ]
  },
  {
   "cell_type": "code",
   "execution_count": null,
   "id": "e8f631ab-4f63-4484-99a6-7ee6af04a7e7",
   "metadata": {},
   "outputs": [],
   "source": []
  },
  {
   "cell_type": "code",
   "execution_count": null,
   "id": "b136907a-9d0a-4e04-addf-c71423416513",
   "metadata": {},
   "outputs": [],
   "source": []
  }
 ],
 "metadata": {
  "kernelspec": {
   "display_name": "Python 3 (ipykernel)",
   "language": "python",
   "name": "python3"
  },
  "language_info": {
   "codemirror_mode": {
    "name": "ipython",
    "version": 3
   },
   "file_extension": ".py",
   "mimetype": "text/x-python",
   "name": "python",
   "nbconvert_exporter": "python",
   "pygments_lexer": "ipython3",
   "version": "3.9.13"
  }
 },
 "nbformat": 4,
 "nbformat_minor": 5
}
