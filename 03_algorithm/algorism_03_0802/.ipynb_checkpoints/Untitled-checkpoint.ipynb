{
 "cells": [
  {
   "cell_type": "markdown",
   "id": "6496d04a-f8ae-4434-9ebb-219e1329aa5f",
   "metadata": {},
   "source": [
    "# 배열\n",
    "## 2차원 배열의 선언\n",
    "    - 1차원 List를 묶은 List\n",
    "    - 2차원 이상의 다차원 List는 차원에 따라 index 선언\n",
    "    - 2차원 List의 선언 : 세로길이(행의 개수), 가로길이(열의 개수) 필요\n",
    "    - Python에서는 데이터 초기화를 통해 변수선언과 초기화가 가능"
   ]
  },
  {
   "cell_type": "code",
   "execution_count": null,
   "id": "83820e36-7f51-4206-816f-3d0a4b7d3c53",
   "metadata": {},
   "outputs": [],
   "source": [
    "# 배열순회\n",
    "# 행 우선 순회\n",
    "for i in range(n): # i행의 좌표\n",
    "    for j in range(m): # j행의 좌표\n",
    "        f(Array[i][j]) #행렬 위치"
   ]
  },
  {
   "cell_type": "code",
   "execution_count": null,
   "id": "a760b981-0166-48e4-8b91-1184ecc0d7dc",
   "metadata": {},
   "outputs": [],
   "source": [
    "# 열 우선 순회\n",
    "for j in range(m):\n",
    "    for i in range(n):\n",
    "        f(Array[i][j]) "
   ]
  },
  {
   "cell_type": "code",
   "execution_count": null,
   "id": "33e1fa3c-7575-4530-8978-d0fa62bb87e5",
   "metadata": {},
   "outputs": [],
   "source": [
    "# 지그재그 순회\n",
    "for i in rnage(n):\n",
    "    for j in range(m):\n",
    "        f(Array[i][j + (m-1-2*j) * (i%2)] # (m-1-j)인데, 홀수만 동작하기 위해 식 변경"
   ]
  },
  {
   "cell_type": "code",
   "execution_count": 3,
   "id": "f20a2176-5d23-44a2-a343-88fb20a872f6",
   "metadata": {},
   "outputs": [
    {
     "name": "stdout",
     "output_type": "stream",
     "text": [
      "0\n",
      "1\n"
     ]
    },
    {
     "ename": "IndexError",
     "evalue": "list index out of range",
     "output_type": "error",
     "traceback": [
      "\u001b[1;31m---------------------------------------------------------------------------\u001b[0m",
      "\u001b[1;31mIndexError\u001b[0m                                Traceback (most recent call last)",
      "Cell \u001b[1;32mIn[3], line 6\u001b[0m\n\u001b[0;32m      4\u001b[0m \u001b[38;5;28;01mfor\u001b[39;00m i \u001b[38;5;129;01min\u001b[39;00m \u001b[38;5;28mrange\u001b[39m(N):\n\u001b[0;32m      5\u001b[0m     \u001b[38;5;28;01mfor\u001b[39;00m j \u001b[38;5;129;01min\u001b[39;00m \u001b[38;5;28mrange\u001b[39m(M\u001b[38;5;241m-\u001b[39m\u001b[38;5;241m1\u001b[39m):\n\u001b[1;32m----> 6\u001b[0m         \u001b[38;5;28mprint\u001b[39m(\u001b[43marr\u001b[49m\u001b[43m[\u001b[49m\u001b[43mi\u001b[49m\u001b[43m]\u001b[49m\u001b[43m[\u001b[49m\u001b[43mj\u001b[49m\u001b[43m]\u001b[49m)\n",
      "\u001b[1;31mIndexError\u001b[0m: list index out of range"
     ]
    }
   ],
   "source": [
    "N = 2 # 행의 크기\n",
    "M = 4 # 열의 크기\n",
    "arr = [[0, 1],[4, 5, 6, 7]]\n",
    "for i in range(N):\n",
    "    for j in range(M):\n",
    "        print(arr[i][j])"
   ]
  },
  {
   "cell_type": "code",
   "execution_count": 6,
   "id": "5c7ba2b5-435c-44ae-b01c-82ad361bf278",
   "metadata": {},
   "outputs": [
    {
     "name": "stdout",
     "output_type": "stream",
     "text": [
      "[[0, 0, 0, 0], [0, 0, 0, 0]]\n",
      "[[1, 0, 0, 0], [0, 0, 0, 0]]\n",
      "[[1, 0, 0, 0], [1, 0, 0, 0]]\n"
     ]
    }
   ],
   "source": [
    "N = 2 # 행의 크기\n",
    "M = 4 # 열의 크기\n",
    "arr = [[0]*M for _ in range(N)]\n",
    "arr2 = [[0]*M]*N\n",
    "print(arr)\n",
    "arr[0][0] = 1\n",
    "arr2[0][0] = 1\n",
    "print(arr)\n",
    "print(arr2)"
   ]
  },
  {
   "cell_type": "code",
   "execution_count": 4,
   "id": "1c68357d-4b5f-450a-a3c1-f0a25728fe50",
   "metadata": {},
   "outputs": [
    {
     "name": "stdin",
     "output_type": "stream",
     "text": [
      " 3\n",
      " 1 2 3\n",
      " 4 5 6\n",
      " 7 8 9\n"
     ]
    },
    {
     "ename": "IndexError",
     "evalue": "list index out of range",
     "output_type": "error",
     "traceback": [
      "\u001b[1;31m---------------------------------------------------------------------------\u001b[0m",
      "\u001b[1;31mIndexError\u001b[0m                                Traceback (most recent call last)",
      "Cell \u001b[1;32mIn[4], line 18\u001b[0m\n\u001b[0;32m     16\u001b[0m s \u001b[38;5;241m=\u001b[39m arr[i][j]\n\u001b[0;32m     17\u001b[0m \u001b[38;5;28;01mfor\u001b[39;00m k \u001b[38;5;129;01min\u001b[39;00m \u001b[38;5;28mrange\u001b[39m(\u001b[38;5;241m4\u001b[39m):\n\u001b[1;32m---> 18\u001b[0m     ni, nj \u001b[38;5;241m=\u001b[39m i\u001b[38;5;241m+\u001b[39mdi[k], j\u001b[38;5;241m+\u001b[39m\u001b[43mdj\u001b[49m\u001b[43m[\u001b[49m\u001b[43mk\u001b[49m\u001b[43m]\u001b[49m\n\u001b[0;32m     19\u001b[0m     \u001b[38;5;28;01mif\u001b[39;00m \u001b[38;5;241m0\u001b[39m\u001b[38;5;241m<\u001b[39m\u001b[38;5;241m=\u001b[39mni\u001b[38;5;241m<\u001b[39mN \u001b[38;5;129;01mand\u001b[39;00m \u001b[38;5;241m0\u001b[39m\u001b[38;5;241m<\u001b[39m\u001b[38;5;241m=\u001b[39mnj\u001b[38;5;241m<\u001b[39mN:\n\u001b[0;32m     20\u001b[0m         s \u001b[38;5;241m+\u001b[39m\u001b[38;5;241m=\u001b[39m arr[ni][nj]\n",
      "\u001b[1;31mIndexError\u001b[0m: list index out of range"
     ]
    }
   ],
   "source": [
    "'''\n",
    "3\n",
    "1 2 3\n",
    "4 5 6\n",
    "7 8 9\n",
    "'''\n",
    "di = [0, 1, 0, -1]\n",
    "dj = [1, 0 -1, 0]\n",
    "\n",
    "N = int(input())\n",
    "arr = [list(map(int, input().split())) for _ in range(N)]\n",
    "\n",
    "max_v = 0 # 모든 원소가 0이상이라면....\n",
    "for i in range(N): # 모든 원소 arr[i][j]에 대해..\n",
    "    for j in range(N):\n",
    "        s = arr[i][j]\n",
    "        for k in range(4):\n",
    "            ni, nj = i+di[k], j+dj[k]\n",
    "            if 0<=ni<N and 0<=nj<N:\n",
    "                s += arr[ni][nj]\n",
    "            # 여기까지가 주변 원소를 포함함\n",
    "        if max_v < s: # s > max_v\n",
    "            max_v = s\n",
    "\n",
    "print(s)"
   ]
  },
  {
   "cell_type": "code",
   "execution_count": 9,
   "id": "d186faf9-3b4e-4c8e-85c0-430d0a8d46c7",
   "metadata": {},
   "outputs": [
    {
     "name": "stdout",
     "output_type": "stream",
     "text": [
      "[[1, 4, 7], [2, 5, 8], [3, 6, 9]]\n"
     ]
    }
   ],
   "source": [
    "# i : 행의 좌표, len(arr)\n",
    "# j : 열의 좌표, len(arr[0])\n",
    "arr = [[1,2,3],[4,5,6],[7,8,9]] # 3*3 행렬\n",
    "\n",
    "for i in range(3):\n",
    "    for j in range(3):\n",
    "        if i < j :\n",
    "            arr[i][j], arr[j][i] = arr[j][i], arr[i][j]\n",
    "\n",
    "print(arr)"
   ]
  },
  {
   "cell_type": "code",
   "execution_count": null,
   "id": "4067170f-f91b-4f2d-b709-1df8c09ed441",
   "metadata": {},
   "outputs": [],
   "source": [
    "# array_test.py\n",
    "N = int(input())\n",
    "arr = [list(map(int, int().split())) for _ in range(N)]\n",
    "total1 = 0\n",
    "for i in range(N):\n",
    "    total1 += arr[i][i]\n",
    "    # total2 += arr[i][N-1-i]"
   ]
  },
  {
   "cell_type": "code",
   "execution_count": 10,
   "id": "3c353e8a-d28f-4186-97f3-93cb42f14d2a",
   "metadata": {},
   "outputs": [
    {
     "name": "stdout",
     "output_type": "stream",
     "text": [
      "0\n",
      "1\n",
      "2\n",
      "3\n",
      "4\n",
      "5\n",
      "6\n",
      "7\n",
      "8\n",
      "9\n",
      "10\n",
      "11\n",
      "12\n",
      "13\n",
      "14\n",
      "15\n",
      "16\n",
      "17\n",
      "18\n",
      "19\n",
      "20\n",
      "21\n",
      "22\n",
      "23\n",
      "24\n",
      "25\n",
      "26\n",
      "27\n",
      "28\n",
      "29\n",
      "30\n",
      "31\n"
     ]
    }
   ],
   "source": [
    "# 부분집합\n",
    "# and 연산 (&)\n",
    "# or 연상 (|)\n",
    "arr = [-7, -3, -2, 5, 8]\n",
    "N = 5\n",
    "\n",
    "# numbers로 만들 수 있는 모든 경우의 수\n",
    "# 1 << N == 2**N\n",
    "# 1 왼쪽으로 3번 쉬프트 한다.\n",
    "# 0001 -> 1000\n",
    "for x in range(1<<N): # 100000\n",
    "    result = 0\n",
    "    # 그 모든 경우의 수에서,\n",
    "    # numbers의 y번째 요소가\n",
    "    # x번 경우의 수에 사용되었는지를 판별\n",
    "    # x번 경우의 수가 1일 때, bit -> 0001\n",
    "    # numbers의 y번째 요소(0번째 요소) -> (1 << y)\n",
    "    # numbers의 0번째 요소가 0001 -> (1 << 0)\n",
    "    # numbers의 1번째 요소가 0010 -> (1 << 1)\n",
    "    for y in range(N):\n",
    "        if x & (1 << y):\n",
    "            result += numbers[y]\n",
    "    if result == 0:\n",
    "        print(1)\n",
    "        break\n",
    "    \n",
    "    print(x)"
   ]
  },
  {
   "cell_type": "code",
   "execution_count": null,
   "id": "019fa518-141c-4b32-b63a-0fc8e03d526f",
   "metadata": {},
   "outputs": [],
   "source": []
  }
 ],
 "metadata": {
  "kernelspec": {
   "display_name": "Python 3 (ipykernel)",
   "language": "python",
   "name": "python3"
  },
  "language_info": {
   "codemirror_mode": {
    "name": "ipython",
    "version": 3
   },
   "file_extension": ".py",
   "mimetype": "text/x-python",
   "name": "python",
   "nbconvert_exporter": "python",
   "pygments_lexer": "ipython3",
   "version": "3.9.13"
  }
 },
 "nbformat": 4,
 "nbformat_minor": 5
}
