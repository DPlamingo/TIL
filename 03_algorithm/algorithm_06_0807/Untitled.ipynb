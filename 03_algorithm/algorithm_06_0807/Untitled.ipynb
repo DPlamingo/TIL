{
 "cells": [
  {
   "cell_type": "markdown",
   "id": "29845062-a7da-463b-8259-e8a8d5e8d731",
   "metadata": {},
   "source": [
    "# 문자열\n",
    "## 문자열의 표현\n"
   ]
  }
 ],
 "metadata": {
  "kernelspec": {
   "display_name": "Python 3 (ipykernel)",
   "language": "python",
   "name": "python3"
  },
  "language_info": {
   "codemirror_mode": {
    "name": "ipython",
    "version": 3
   },
   "file_extension": ".py",
   "mimetype": "text/x-python",
   "name": "python",
   "nbconvert_exporter": "python",
   "pygments_lexer": "ipython3",
   "version": "3.9.13"
  }
 },
 "nbformat": 4,
 "nbformat_minor": 5
}
