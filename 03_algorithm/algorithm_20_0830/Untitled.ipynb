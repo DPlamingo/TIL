{
 "cells": [
  {
   "cell_type": "markdown",
   "id": "e1ecdee8-fbda-4a9f-9785-0b380aea6351",
   "metadata": {},
   "source": [
    "# 재귀\n",
    "### 선택 정렬 함수(SelectionSort)를 재귀적 알고리즘으로 작성해 보시오."
   ]
  },
  {
   "cell_type": "code",
   "execution_count": null,
   "id": "9c43a223-55bd-4360-b44b-1b5dc8f2422b",
   "metadata": {},
   "outputs": [],
   "source": [
    "# f(0, N, arr)\n",
    "# f(i, N, arr)\n",
    "\n",
    "# 각단계로 해줄게 있다\n",
    "# 최솟값을 찾아서 arr[i]에 옮기기\n",
    "# 다음구간은 f(i+1, N, arr)"
   ]
  },
  {
   "cell_type": "markdown",
   "id": "788808cd-0675-40c9-9885-f451f69bfeb4",
   "metadata": {},
   "source": [
    "## 완전 탐색(검색)\n",
    "### Baby-gin Game\n",
    "\n"
   ]
  }
 ],
 "metadata": {
  "kernelspec": {
   "display_name": "Python 3 (ipykernel)",
   "language": "python",
   "name": "python3"
  },
  "language_info": {
   "codemirror_mode": {
    "name": "ipython",
    "version": 3
   },
   "file_extension": ".py",
   "mimetype": "text/x-python",
   "name": "python",
   "nbconvert_exporter": "python",
   "pygments_lexer": "ipython3",
   "version": "3.9.13"
  }
 },
 "nbformat": 4,
 "nbformat_minor": 5
}
