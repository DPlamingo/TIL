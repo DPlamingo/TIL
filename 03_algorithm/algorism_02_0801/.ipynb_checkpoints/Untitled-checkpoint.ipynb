{
 "cells": [
  {
   "cell_type": "markdown",
   "id": "deb43029-26d7-473a-8a54-d7a2104f0656",
   "metadata": {},
   "source": [
    "## 카운팅 정렬 과정\n",
    " - 갯수를 정렬하는 최대 크기에 맞춰 칸 개수 셈.\n",
    "\n",
    "## 완전 검색\n",
    "    1. 완전 검색 방법은 문제의 해법으로 생각할 수 있는 모든 경우의 수를 나열해보고 확인하는 기법\n",
    "    2. Brute-force 혹은 generate-and-test 기법으로 불림\n",
    "    3. 모든 경우의 수를 테스트한 후, 최종 해법 도출\n",
    "    4. 일반적으로 경우의 수가 상대적으로 작을 때 유용\n"
   ]
  },
  {
   "cell_type": "code",
   "execution_count": null,
   "id": "856112ef-e5f0-4860-8f63-9392d0dd7b77",
   "metadata": {},
   "outputs": [],
   "source": [
    "T = int(input())\n",
    "for tc in range(1, T+1):\n",
    "    N = int(input())\n",
    "    arr = list(map(int, input().split()))\n",
    "\n",
    "    min_idx = 0 # 최솟값의 인덱스\n",
    "    for i in range(1, N):\n",
    "        if arr[min_idx] > arr[i]:\n",
    "            min_idx = i\n",
    "        if arr[max_idx] <= arr[i]:\n",
    "            max_idx = i\n",
    "    ans = max_idx - min_idx\n",
    "    if ans < 0:\n",
    "        ans *= -1\n",
    "    \n",
    "    # abs(max_idx-min_idx)\n",
    "    # max(max_idx, min_idx) - min(max_idx, min_idx)"
   ]
  }
 ],
 "metadata": {
  "kernelspec": {
   "display_name": "Python 3 (ipykernel)",
   "language": "python",
   "name": "python3"
  },
  "language_info": {
   "codemirror_mode": {
    "name": "ipython",
    "version": 3
   },
   "file_extension": ".py",
   "mimetype": "text/x-python",
   "name": "python",
   "nbconvert_exporter": "python",
   "pygments_lexer": "ipython3",
   "version": "3.9.13"
  }
 },
 "nbformat": 4,
 "nbformat_minor": 5
}
